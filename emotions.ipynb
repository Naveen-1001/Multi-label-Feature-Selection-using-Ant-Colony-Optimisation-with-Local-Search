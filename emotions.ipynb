{
  "nbformat": 4,
  "nbformat_minor": 0,
  "metadata": {
    "colab": {
      "provenance": [],
      "collapsed_sections": []
    },
    "kernelspec": {
      "name": "python3",
      "display_name": "Python 3"
    },
    "language_info": {
      "name": "python"
    }
  },
  "cells": [
    {
      "cell_type": "code",
      "source": [
        "# !pip install liac-arff\n",
        "# !pip install scikit-multilearn\n",
        "# !pip uninstall scikit-learn -y\n",
        "# !pip install scikit-learn==0.24.1"
      ],
      "metadata": {
        "id": "ObpgDYCZ2GX3"
      },
      "execution_count": 33,
      "outputs": []
    },
    {
      "cell_type": "code",
      "source": [
        "from warnings import filterwarnings\n",
        "filterwarnings('ignore')"
      ],
      "metadata": {
        "id": "GGgFcuFsGDde"
      },
      "execution_count": 34,
      "outputs": []
    },
    {
      "cell_type": "code",
      "source": [
        "import tqdm\n",
        "import time\n",
        "import random\n",
        "import numpy as np\n",
        "from scipy import spatial\n",
        "from scipy.stats import pearsonr\n",
        "from skmultilearn.dataset import load_from_arff\n",
        "\n",
        "from sklearn.linear_model import LogisticRegression\n",
        "from sklearn.neighbors import KNeighborsClassifier\n",
        "from sklearn.naive_bayes import GaussianNB\n",
        "from skmultilearn.problem_transform import BinaryRelevance"
      ],
      "metadata": {
        "id": "qendvlV-gO_P"
      },
      "execution_count": 35,
      "outputs": []
    },
    {
      "cell_type": "code",
      "source": [
        "X, y = load_from_arff(\"Emotions.arff\", label_count = 6)\n",
        "X = X.toarray()\n",
        "y = y.toarray()\n",
        "\n",
        "index = np.arange(len(X))\n",
        "np.random.shuffle(index)\n",
        "X, y = X[index], y[index]\n",
        "\n",
        "print(X.shape, y.shape)"
      ],
      "metadata": {
        "colab": {
          "base_uri": "https://localhost:8080/"
        },
        "id": "N2L17HNy_uqu",
        "outputId": "0b32050d-98bb-44de-a6ae-10c38d4209d2"
      },
      "execution_count": 36,
      "outputs": [
        {
          "output_type": "stream",
          "name": "stdout",
          "text": [
            "(593, 72) (593, 6)\n"
          ]
        }
      ]
    },
    {
      "cell_type": "code",
      "source": [
        "print(X)\n",
        "print(y)"
      ],
      "metadata": {
        "colab": {
          "base_uri": "https://localhost:8080/"
        },
        "id": "uGnwMK0qc2MU",
        "outputId": "4ac8f7fb-fff3-4d67-b14a-4053f7b2d271"
      },
      "execution_count": 37,
      "outputs": [
        {
          "output_type": "stream",
          "name": "stdout",
          "text": [
            "[[0.056494 0.121974 0.076265 ... 0.223948 0.158557 0.527927]\n",
            " [0.029022 0.553287 0.094462 ... 0.427735 0.164804 0.970506]\n",
            " [0.081374 0.272747 0.085733 ... 0.343547 0.276366 0.710924]\n",
            " ...\n",
            " [0.036299 0.064986 0.082104 ... 0.095982 0.520006 0.677943]\n",
            " [0.146109 0.304348 0.096113 ... 0.557821 0.244548 0.802369]\n",
            " [0.069209 0.133291 0.075974 ... 0.394914 0.255537 1.223636]]\n",
            "[[0 0 1 1 1 0]\n",
            " [0 0 1 0 1 0]\n",
            " [1 0 0 0 0 1]\n",
            " ...\n",
            " [0 0 1 1 1 0]\n",
            " [0 0 0 0 0 1]\n",
            " [0 0 1 1 1 0]]\n"
          ]
        }
      ]
    },
    {
      "cell_type": "code",
      "source": [
        "train_samples = int(X.shape[0] * 0.6)\n",
        "\n",
        "X_train = X[:train_samples, :]\n",
        "y_train = y[:train_samples]\n",
        "X_test = X[train_samples:, :]\n",
        "y_test = y[train_samples:]\n",
        "\n",
        "print(\"X_train:\", X_train.shape, \"y_train:\", y_train.shape)\n",
        "print(\"X_test:\", X_test.shape, \"y_test:\", y_test.shape)"
      ],
      "metadata": {
        "id": "QzvjKRbXiltG",
        "colab": {
          "base_uri": "https://localhost:8080/"
        },
        "outputId": "e7981e46-e496-40b5-b927-b9c3da66bc6b"
      },
      "execution_count": 38,
      "outputs": [
        {
          "output_type": "stream",
          "name": "stdout",
          "text": [
            "X_train: (355, 72) y_train: (355, 6)\n",
            "X_test: (238, 72) y_test: (238, 6)\n"
          ]
        }
      ]
    },
    {
      "cell_type": "code",
      "source": [
        "d = X_train.shape[1] \n",
        "l = y_train.shape[1]\n",
        "print(\"d:\", d, \"l:\", l)"
      ],
      "metadata": {
        "id": "TtqDGhDDvixu",
        "colab": {
          "base_uri": "https://localhost:8080/"
        },
        "outputId": "4d5cb591-cf2c-4df3-ba45-617ef4d7bab7"
      },
      "execution_count": 39,
      "outputs": [
        {
          "output_type": "stream",
          "name": "stdout",
          "text": [
            "d: 72 l: 6\n"
          ]
        }
      ]
    },
    {
      "cell_type": "code",
      "source": [
        "def score(y, pred):\n",
        "    pred = pred.toarray()\n",
        "    score = 0\n",
        "    for i in range(y.shape[0]):\n",
        "        score += np.sum(y[i] * pred[i]) / (np.sum(y[i]) + np.sum(pred[i]) - np.sum(y[i] * pred[i]))\n",
        "    score /= y.shape[0]\n",
        "    return score"
      ],
      "metadata": {
        "id": "ZmZYxXp7mGFD"
      },
      "execution_count": 40,
      "outputs": []
    },
    {
      "cell_type": "markdown",
      "source": [
        "## Without FS, taking the whole dataset"
      ],
      "metadata": {
        "id": "O7Hj_aWclvxl"
      }
    },
    {
      "cell_type": "code",
      "source": [
        "X_train_subset = X_train[:, :]\n",
        "X_test_subset = X_test[:, :]\n",
        "\n",
        "print(\"X_train_subset:\", X_train_subset.shape, \"y_train:\", y_train.shape)\n",
        "print(\"X_test_subset:\", X_test_subset.shape, \"y_test:\", y_test.shape)\n",
        "\n",
        "lr = BinaryRelevance(classifier = LogisticRegression())\n",
        "lr.fit(X_train_subset, y_train)\n",
        "\n",
        "lr_train_score = score(y_train, lr.predict(X_train_subset))\n",
        "lr_test_score = score(y_test, lr.predict(X_test_subset))\n",
        "\n",
        "print(\"lr train accu:\", round(lr_train_score, 4))\n",
        "print(\"lr test_accu:\", round(lr_test_score, 4))\n",
        "\n",
        "nb = BinaryRelevance(classifier = GaussianNB())\n",
        "nb.fit(X_train_subset, y_train)\n",
        "\n",
        "nb_train_score = score(y_train, nb.predict(X_train_subset))\n",
        "nb_test_score = score(y_test, nb.predict(X_test_subset))\n",
        "\n",
        "print(\"nb train accu:\", round(nb_train_score, 4))\n",
        "print(\"nb test_accu:\", round(nb_test_score, 4))\n",
        "\n",
        "knn = BinaryRelevance(classifier = KNeighborsClassifier())\n",
        "knn.fit(X_train_subset, y_train)\n",
        "\n",
        "knn_train_score = score(y_train, knn.predict(X_train_subset))\n",
        "knn_test_score = score(y_test, knn.predict(X_test_subset))\n",
        "\n",
        "print(\"knn train accu:\", round(knn_train_score, 4))\n",
        "print(\"knn test_accu:\", round(knn_test_score, 4))\n",
        "\n",
        "avg_train_score = (lr_train_score + nb_train_score + knn_train_score) / 3\n",
        "avg_test_score = (lr_test_score + nb_test_score + knn_test_score) / 3\n",
        "\n",
        "print(\"avg train accu:\", round(avg_train_score, 4))\n",
        "print(\"avg test_accu:\", round(avg_test_score, 4))"
      ],
      "metadata": {
        "id": "ritvyL6DZuef",
        "colab": {
          "base_uri": "https://localhost:8080/"
        },
        "outputId": "83cf5f15-489e-459a-96c7-2b3064e60557"
      },
      "execution_count": 41,
      "outputs": [
        {
          "output_type": "stream",
          "name": "stdout",
          "text": [
            "X_train_subset: (355, 72) y_train: (355, 6)\n",
            "X_test_subset: (238, 72) y_test: (238, 6)\n",
            "lr train accu: 0.539\n",
            "lr test_accu: 0.4634\n",
            "nb train accu: 0.5764\n",
            "nb test_accu: 0.5083\n",
            "knn train accu: 0.5526\n",
            "knn test_accu: 0.382\n",
            "avg train accu: 0.556\n",
            "avg test_accu: 0.4512\n"
          ]
        }
      ]
    },
    {
      "cell_type": "code",
      "source": [
        "beg = time.time()\n",
        "fcorr = np.corrcoef(X_train.T)\n",
        "end = time.time()\n",
        "fcorr = np.absolute(fcorr)\n",
        "print(fcorr.shape)\n",
        "print(fcorr)"
      ],
      "metadata": {
        "id": "8v9TphKArTEd",
        "colab": {
          "base_uri": "https://localhost:8080/"
        },
        "outputId": "199d6198-7b9f-4ed0-dae2-fba31268a304"
      },
      "execution_count": 42,
      "outputs": [
        {
          "output_type": "stream",
          "name": "stdout",
          "text": [
            "(72, 72)\n",
            "[[1.         0.60523737 0.15438141 ... 0.36558786 0.42313713 0.42783413]\n",
            " [0.60523737 1.         0.54975912 ... 0.49352091 0.52088132 0.51621682]\n",
            " [0.15438141 0.54975912 1.         ... 0.33977035 0.32297097 0.31709236]\n",
            " ...\n",
            " [0.36558786 0.49352091 0.33977035 ... 1.         0.65495891 0.90126544]\n",
            " [0.42313713 0.52088132 0.32297097 ... 0.65495891 1.         0.83343408]\n",
            " [0.42783413 0.51621682 0.31709236 ... 0.90126544 0.83343408 1.        ]]\n"
          ]
        }
      ]
    },
    {
      "cell_type": "code",
      "source": [
        "flcorr = np.zeros((d, l))\n",
        "for i in tqdm.tqdm(range(d)):\n",
        "    for j in range(l):\n",
        "        flcorr[i][j] = pearsonr(X_train[:, i], y_train[:, j])[0] + 0.001\n",
        "flcorr = np.absolute(flcorr)\n",
        "flcorr = np.max(flcorr, axis = 1)\n",
        "print(flcorr.shape)\n",
        "print(flcorr)"
      ],
      "metadata": {
        "id": "27xui0T814rE",
        "colab": {
          "base_uri": "https://localhost:8080/"
        },
        "outputId": "7bc405ac-6fbe-4f3e-fdcf-ec5bdc867e9c"
      },
      "execution_count": 43,
      "outputs": [
        {
          "output_type": "stream",
          "name": "stderr",
          "text": [
            "100%|██████████| 72/72 [00:00<00:00, 1389.26it/s]"
          ]
        },
        {
          "output_type": "stream",
          "name": "stdout",
          "text": [
            "(72,)\n",
            "[0.39259245 0.455105   0.34080416 0.52255398 0.62151315 0.20416367\n",
            " 0.21451703 0.26735442 0.1720577  0.17349259 0.156361   0.14841458\n",
            " 0.14877108 0.10786582 0.25290941 0.1753263  0.39613385 0.39797063\n",
            " 0.19262437 0.17274502 0.15113918 0.18979349 0.19007153 0.20424536\n",
            " 0.21615553 0.25301846 0.23782989 0.23412046 0.23563233 0.25976841\n",
            " 0.29118163 0.29181905 0.14150283 0.08336406 0.08448966 0.41979579\n",
            " 0.43910157 0.30092829 0.32700052 0.39160592 0.37015563 0.43423607\n",
            " 0.41363906 0.4311351  0.3875007  0.38729401 0.44657843 0.44568236\n",
            " 0.28439564 0.24726389 0.07533552 0.41272181 0.45762954 0.38034559\n",
            " 0.33505082 0.36325075 0.41640118 0.44445472 0.38522017 0.41046871\n",
            " 0.3472166  0.36475614 0.40501012 0.37030581 0.3014735  0.20094647\n",
            " 0.3119753  0.15834238 0.16830341 0.29468065 0.27354969 0.31446164]\n"
          ]
        },
        {
          "output_type": "stream",
          "name": "stderr",
          "text": [
            "\n"
          ]
        }
      ]
    },
    {
      "cell_type": "markdown",
      "source": [
        "## Base paper ka ACO, 10 features ka subset"
      ],
      "metadata": {
        "id": "pSpFs8Lol5hI"
      }
    },
    {
      "cell_type": "code",
      "source": [
        "tou = []\n",
        "for i in tqdm.tqdm(range(d)):\n",
        "    tou0 = 0\n",
        "    for j in range(l):\n",
        "        tou0 = max(tou0, 1 - spatial.distance.cosine(X_train[:, i], y_train[:, j]))\n",
        "    tou.append(tou0)\n",
        "tou = np.array(tou)\n",
        "tou = (tou - np.min(tou)) / (np.max(tou) - np.min(tou))\n",
        "\n",
        "q0 = 0.7\n",
        "rho = 0.1\n",
        "ants = 25\n",
        "iterations = 40\n",
        "\n",
        "for it in tqdm.tqdm(range(iterations)):\n",
        "    fc = [0] * d\n",
        "    for ant in range(ants):\n",
        "\n",
        "        visited = set()\n",
        "        unvisited = set(range(d))\n",
        "        i = random.sample(list(unvisited), 1)[0]\n",
        "        visited.add(i)\n",
        "        unvisited.remove(i)\n",
        "\n",
        "        while len(visited) < 10:\n",
        "            ni = list(unvisited)\n",
        "            p = []\n",
        "            for j in ni:\n",
        "                p.append(tou[j] * flcorr[j] / fcorr[i][j])\n",
        "            p = np.array(p)\n",
        "            p /= np.sum(p)\n",
        "            q = random.random()\n",
        "            j = -1\n",
        "            if q >= q0:\n",
        "                j = np.random.choice(ni, p = p)\n",
        "            else:\n",
        "                j = ni[np.argmax(p)]\n",
        "            unvisited.remove(j)\n",
        "            visited.add(j)\n",
        "            i = j\n",
        "        for i in visited:\n",
        "            fc[i]+=1\n",
        "\n",
        "    for i in range(d):\n",
        "        tou[i] = (1 - rho) * tou[i] + fc[i] / sum(fc)\n",
        "\n",
        "fs_ind = []\n",
        "for i in range(d):\n",
        "    fs_ind.append([tou[i], i])\n",
        "fs_ind.sort(reverse = True)\n",
        "fs_ind = np.array(fs_ind)\n",
        "fs_ind = fs_ind[:10, 1].astype(int)\n",
        "\n",
        "print(fs_ind)\n",
        "\n",
        "X_train_subset = X_train[:, fs_ind]\n",
        "X_test_subset = X_test[:, fs_ind]\n",
        "\n",
        "print(\"X_train_subset:\", X_train_subset.shape, \"y_train:\", y_train.shape)\n",
        "print(\"X_test_subset:\", X_test_subset.shape, \"y_test:\", y_test.shape)\n",
        "\n",
        "lr = BinaryRelevance(classifier = LogisticRegression())\n",
        "lr.fit(X_train_subset, y_train)\n",
        "\n",
        "lr_train_score = score(y_train, lr.predict(X_train_subset))\n",
        "lr_test_score = score(y_test, lr.predict(X_test_subset))\n",
        "\n",
        "print(\"lr train accu:\", round(lr_train_score, 4))\n",
        "print(\"lr test_accu:\", round(lr_test_score, 4))\n",
        "\n",
        "nb = BinaryRelevance(classifier = GaussianNB())\n",
        "nb.fit(X_train_subset, y_train)\n",
        "\n",
        "nb_train_score = score(y_train, nb.predict(X_train_subset))\n",
        "nb_test_score = score(y_test, nb.predict(X_test_subset))\n",
        "\n",
        "print(\"nb train accu:\", round(nb_train_score, 4))\n",
        "print(\"nb test_accu:\", round(nb_test_score, 4))\n",
        "\n",
        "knn = BinaryRelevance(classifier = KNeighborsClassifier())\n",
        "knn.fit(X_train_subset, y_train)\n",
        "\n",
        "knn_train_score = score(y_train, knn.predict(X_train_subset))\n",
        "knn_test_score = score(y_test, knn.predict(X_test_subset))\n",
        "\n",
        "print(\"knn train accu:\", round(knn_train_score, 4))\n",
        "print(\"knn test_accu:\", round(knn_test_score, 4))\n",
        "\n",
        "avg_train_score = (lr_train_score + nb_train_score + knn_train_score) / 3\n",
        "avg_test_score = (lr_test_score + nb_test_score + knn_test_score) / 3\n",
        "\n",
        "print(\"avg train accu:\", round(avg_train_score, 4))\n",
        "print(\"avg test_accu:\", round(avg_test_score, 4))"
      ],
      "metadata": {
        "colab": {
          "base_uri": "https://localhost:8080/"
        },
        "id": "8A3VDSZf3zYT",
        "outputId": "5612b208-1c5a-476e-fbfb-e4bc2b9b5262"
      },
      "execution_count": 44,
      "outputs": [
        {
          "output_type": "stream",
          "name": "stderr",
          "text": [
            "100%|██████████| 72/72 [00:00<00:00, 1941.67it/s]\n",
            "100%|██████████| 40/40 [00:01<00:00, 38.17it/s]\n"
          ]
        },
        {
          "output_type": "stream",
          "name": "stdout",
          "text": [
            "[ 8 31 68 42 13 30 33 44 24 23]\n",
            "X_train_subset: (355, 10) y_train: (355, 6)\n",
            "X_test_subset: (238, 10) y_test: (238, 6)\n",
            "lr train accu: 0.261\n",
            "lr test_accu: 0.2447\n",
            "nb train accu: 0.4528\n",
            "nb test_accu: 0.3905\n",
            "knn train accu: 0.5304\n",
            "knn test_accu: 0.3561\n",
            "avg train accu: 0.4147\n",
            "avg test_accu: 0.3304\n"
          ]
        }
      ]
    },
    {
      "cell_type": "markdown",
      "source": [
        "## Base paper ke ACO ka solution further optimized with random restructure LS with KNN wrapper"
      ],
      "metadata": {
        "id": "u8G97PfrmGJ2"
      }
    },
    {
      "cell_type": "code",
      "source": [
        "tmp = fs_ind[:]"
      ],
      "metadata": {
        "id": "3mqqUhsP5lqM"
      },
      "execution_count": 45,
      "outputs": []
    },
    {
      "cell_type": "code",
      "source": [
        "X_train_subset = X_train[:, fs_ind]\n",
        "\n",
        "knn = BinaryRelevance(classifier = KNeighborsClassifier())\n",
        "knn.fit(X_train_subset, y_train)\n",
        "best_acc = score(y_train, knn.predict(X_train_subset))\n",
        "\n",
        "ants = 40\n",
        "\n",
        "for ant in tqdm.tqdm(range(ants)):\n",
        "\n",
        "    visited = set(random.sample(fs_ind.tolist(), 5))\n",
        "    unvisited = set(range(d)) - visited\n",
        "    i = random.sample(list(visited), 1)[0]\n",
        "\n",
        "    while len(visited) < 10:\n",
        "        ni = list(unvisited)\n",
        "        p = []\n",
        "        for j in ni:\n",
        "            p.append(tou[j] * flcorr[j] / fcorr[i][j])\n",
        "        p = np.array(p)\n",
        "        p /= np.sum(p)\n",
        "        j = ni[np.argmax(p)]\n",
        "        unvisited.remove(j)\n",
        "        visited.add(j)\n",
        "        i = j\n",
        "\n",
        "    ind = np.array(list(visited))\n",
        "    X_train_subset = X_train[:, ind]\n",
        "\n",
        "    knn = BinaryRelevance(classifier = KNeighborsClassifier())\n",
        "    knn.fit(X_train_subset, y_train)\n",
        "    acc = score(y_train, knn.predict(X_train_subset))\n",
        "\n",
        "    if acc > best_acc:\n",
        "        best_acc = acc\n",
        "        fs_ind = ind[:]\n",
        "\n",
        "print(fs_ind)\n",
        "\n",
        "X_train_subset = X_train[:, fs_ind]\n",
        "X_test_subset = X_test[:, fs_ind]\n",
        "\n",
        "print(\"X_train_subset:\", X_train_subset.shape, \"y_train:\", y_train.shape)\n",
        "print(\"X_test_subset:\", X_test_subset.shape, \"y_test:\", y_test.shape)\n",
        "\n",
        "lr = BinaryRelevance(classifier = LogisticRegression())\n",
        "lr.fit(X_train_subset, y_train)\n",
        "\n",
        "lr_train_score = score(y_train, lr.predict(X_train_subset))\n",
        "lr_test_score = score(y_test, lr.predict(X_test_subset))\n",
        "\n",
        "print(\"lr train accu:\", round(lr_train_score, 4))\n",
        "print(\"lr test_accu:\", round(lr_test_score, 4))\n",
        "\n",
        "nb = BinaryRelevance(classifier = GaussianNB())\n",
        "nb.fit(X_train_subset, y_train)\n",
        "\n",
        "nb_train_score = score(y_train, nb.predict(X_train_subset))\n",
        "nb_test_score = score(y_test, nb.predict(X_test_subset))\n",
        "\n",
        "print(\"nb train accu:\", round(nb_train_score, 4))\n",
        "print(\"nb test_accu:\", round(nb_test_score, 4))\n",
        "\n",
        "knn = BinaryRelevance(classifier = KNeighborsClassifier())\n",
        "knn.fit(X_train_subset, y_train)\n",
        "\n",
        "knn_train_score = score(y_train, knn.predict(X_train_subset))\n",
        "knn_test_score = score(y_test, knn.predict(X_test_subset))\n",
        "\n",
        "print(\"knn train accu:\", round(knn_train_score, 4))\n",
        "print(\"knn test_accu:\", round(knn_test_score, 4))\n",
        "\n",
        "avg_train_score = (lr_train_score + nb_train_score + knn_train_score) / 3\n",
        "avg_test_score = (lr_test_score + nb_test_score + knn_test_score) / 3\n",
        "\n",
        "print(\"avg train accu:\", round(avg_train_score, 4))\n",
        "print(\"avg test_accu:\", round(avg_test_score, 4))"
      ],
      "metadata": {
        "colab": {
          "base_uri": "https://localhost:8080/"
        },
        "id": "iUf1-7v_5oz1",
        "outputId": "d33e55cf-4a41-4b75-b90a-cec2cbb65a02"
      },
      "execution_count": 46,
      "outputs": [
        {
          "output_type": "stream",
          "name": "stderr",
          "text": [
            "100%|██████████| 40/40 [00:03<00:00, 10.92it/s]\n"
          ]
        },
        {
          "output_type": "stream",
          "name": "stdout",
          "text": [
            "[33  4 68  8 42 13 23 28 30 31]\n",
            "X_train_subset: (355, 10) y_train: (355, 6)\n",
            "X_test_subset: (238, 10) y_test: (238, 6)\n",
            "lr train accu: 0.3844\n",
            "lr test_accu: 0.3694\n",
            "nb train accu: 0.5039\n",
            "nb test_accu: 0.4457\n",
            "knn train accu: 0.5737\n",
            "knn test_accu: 0.3725\n",
            "avg train accu: 0.4873\n",
            "avg test_accu: 0.3959\n"
          ]
        }
      ]
    },
    {
      "cell_type": "markdown",
      "source": [
        "## Base paper ke ACO ka solution further optimized with random restructure LS with KNN + NB + LR wrapper"
      ],
      "metadata": {
        "id": "jwrm4Y1wmVB9"
      }
    },
    {
      "cell_type": "code",
      "source": [
        "fs_ind = tmp[:]"
      ],
      "metadata": {
        "id": "vg-348065vX5"
      },
      "execution_count": 47,
      "outputs": []
    },
    {
      "cell_type": "code",
      "source": [
        "X_train_subset = X_train[:, fs_ind]\n",
        "\n",
        "lr = BinaryRelevance(classifier = LogisticRegression())\n",
        "lr.fit(X_train_subset, y_train)\n",
        "lr_train_score = score(y_train, lr.predict(X_train_subset))\n",
        "\n",
        "nb = BinaryRelevance(classifier = GaussianNB())\n",
        "nb.fit(X_train_subset, y_train)\n",
        "nb_train_score = score(y_train, nb.predict(X_train_subset))\n",
        "\n",
        "knn = BinaryRelevance(classifier = KNeighborsClassifier())\n",
        "knn.fit(X_train_subset, y_train)\n",
        "knn_train_score = score(y_train, knn.predict(X_train_subset))\n",
        "\n",
        "best_acc = (lr_train_score + nb_train_score + knn_train_score) / 3\n",
        "\n",
        "ants = 40\n",
        "\n",
        "for ant in tqdm.tqdm(range(ants)):\n",
        "\n",
        "    visited = set(random.sample(fs_ind.tolist(), 5))\n",
        "    unvisited = set(range(d)) - visited\n",
        "    i = random.sample(list(visited), 1)[0]\n",
        "\n",
        "    while len(visited) < 10:\n",
        "        ni = list(unvisited)\n",
        "        p = []\n",
        "        for j in ni:\n",
        "            p.append(tou[j] * flcorr[j] / fcorr[i][j])\n",
        "        p = np.array(p)\n",
        "        p /= np.sum(p)\n",
        "        j = ni[np.argmax(p)]\n",
        "        unvisited.remove(j)\n",
        "        visited.add(j)\n",
        "        i = j\n",
        "\n",
        "    ind = np.array(list(visited))\n",
        "    X_train_subset = X_train[:, ind]\n",
        "\n",
        "    lr = BinaryRelevance(classifier = LogisticRegression())\n",
        "    lr.fit(X_train_subset, y_train)\n",
        "    lr_train_score = score(y_train, lr.predict(X_train_subset))\n",
        "\n",
        "    nb = BinaryRelevance(classifier = GaussianNB())\n",
        "    nb.fit(X_train_subset, y_train)\n",
        "    nb_train_score = score(y_train, nb.predict(X_train_subset))\n",
        "\n",
        "    knn = BinaryRelevance(classifier = KNeighborsClassifier())\n",
        "    knn.fit(X_train_subset, y_train)\n",
        "    knn_train_score = score(y_train, knn.predict(X_train_subset))\n",
        "\n",
        "    acc = (lr_train_score + nb_train_score + knn_train_score) / 3\n",
        "\n",
        "    if acc > best_acc:\n",
        "        best_acc = acc\n",
        "        fs_ind = ind[:]\n",
        "\n",
        "print(fs_ind)\n",
        "\n",
        "X_train_subset = X_train[:, fs_ind]\n",
        "X_test_subset = X_test[:, fs_ind]\n",
        "\n",
        "print(\"X_train_subset:\", X_train_subset.shape, \"y_train:\", y_train.shape)\n",
        "print(\"X_test_subset:\", X_test_subset.shape, \"y_test:\", y_test.shape)\n",
        "\n",
        "lr = BinaryRelevance(classifier = LogisticRegression())\n",
        "lr.fit(X_train_subset, y_train)\n",
        "\n",
        "lr_train_score = score(y_train, lr.predict(X_train_subset))\n",
        "lr_test_score = score(y_test, lr.predict(X_test_subset))\n",
        "\n",
        "print(\"lr train accu:\", round(lr_train_score, 4))\n",
        "print(\"lr test_accu:\", round(lr_test_score, 4))\n",
        "\n",
        "nb = BinaryRelevance(classifier = GaussianNB())\n",
        "nb.fit(X_train_subset, y_train)\n",
        "\n",
        "nb_train_score = score(y_train, nb.predict(X_train_subset))\n",
        "nb_test_score = score(y_test, nb.predict(X_test_subset))\n",
        "\n",
        "print(\"nb train accu:\", round(nb_train_score, 4))\n",
        "print(\"nb test_accu:\", round(nb_test_score, 4))\n",
        "\n",
        "knn = BinaryRelevance(classifier = KNeighborsClassifier())\n",
        "knn.fit(X_train_subset, y_train)\n",
        "\n",
        "knn_train_score = score(y_train, knn.predict(X_train_subset))\n",
        "knn_test_score = score(y_test, knn.predict(X_test_subset))\n",
        "\n",
        "print(\"knn train accu:\", round(knn_train_score, 4))\n",
        "print(\"knn test_accu:\", round(knn_test_score, 4))\n",
        "\n",
        "avg_train_score = (lr_train_score + nb_train_score + knn_train_score) / 3\n",
        "avg_test_score = (lr_test_score + nb_test_score + knn_test_score) / 3\n",
        "\n",
        "print(\"avg train accu:\", round(avg_train_score, 4))\n",
        "print(\"avg test_accu:\", round(avg_test_score, 4))"
      ],
      "metadata": {
        "id": "UNwOE1Uv1R2u",
        "colab": {
          "base_uri": "https://localhost:8080/"
        },
        "outputId": "a9bdd038-0bf2-4c2b-96dd-89f0c7fb64dc"
      },
      "execution_count": 48,
      "outputs": [
        {
          "output_type": "stream",
          "name": "stderr",
          "text": [
            "100%|██████████| 40/40 [00:10<00:00,  3.76it/s]\n"
          ]
        },
        {
          "output_type": "stream",
          "name": "stdout",
          "text": [
            "[34  4  8 11 44 14 55 23 24 31]\n",
            "X_train_subset: (355, 10) y_train: (355, 6)\n",
            "X_test_subset: (238, 10) y_test: (238, 6)\n",
            "lr train accu: 0.3913\n",
            "lr test_accu: 0.3673\n",
            "nb train accu: 0.4953\n",
            "nb test_accu: 0.473\n",
            "knn train accu: 0.609\n",
            "knn test_accu: 0.3918\n",
            "avg train accu: 0.4985\n",
            "avg test_accu: 0.4107\n"
          ]
        }
      ]
    }
  ]
}